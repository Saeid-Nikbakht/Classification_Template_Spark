{
 "cells": [
  {
   "cell_type": "markdown",
   "id": "19ee71e1",
   "metadata": {},
   "source": [
    "# Importing Pyspark"
   ]
  },
  {
   "cell_type": "code",
   "execution_count": 1,
   "id": "03256fb0",
   "metadata": {
    "scrolled": false
   },
   "outputs": [
    {
     "data": {
      "text/html": [
       "\n",
       "            <div>\n",
       "                <p><b>SparkSession - in-memory</b></p>\n",
       "                \n",
       "        <div>\n",
       "            <p><b>SparkContext</b></p>\n",
       "\n",
       "            <p><a href=\"http://192.168.0.122:4040\">Spark UI</a></p>\n",
       "\n",
       "            <dl>\n",
       "              <dt>Version</dt>\n",
       "                <dd><code>v3.1.1</code></dd>\n",
       "              <dt>Master</dt>\n",
       "                <dd><code>local[*]</code></dd>\n",
       "              <dt>AppName</dt>\n",
       "                <dd><code>Ubung</code></dd>\n",
       "            </dl>\n",
       "        </div>\n",
       "        \n",
       "            </div>\n",
       "        "
      ],
      "text/plain": [
       "<pyspark.sql.session.SparkSession at 0x242fbf67970>"
      ]
     },
     "execution_count": 1,
     "metadata": {},
     "output_type": "execute_result"
    }
   ],
   "source": [
    "import pyspark\n",
    "\n",
    "from pyspark.sql import SparkSession\n",
    "spark = SparkSession.builder.appName(\"Ubung\").getOrCreate()\n",
    "\n",
    "spark"
   ]
  },
  {
   "cell_type": "code",
   "execution_count": 2,
   "id": "3243e96a",
   "metadata": {},
   "outputs": [],
   "source": [
    "import numpy as np\n",
    "import pandas as pd"
   ]
  },
  {
   "cell_type": "markdown",
   "id": "166ffd4d",
   "metadata": {},
   "source": [
    "# Reading the Dataset"
   ]
  },
  {
   "cell_type": "code",
   "execution_count": 3,
   "id": "b274925b",
   "metadata": {},
   "outputs": [],
   "source": [
    "path = \"Dataset/\"\n",
    "df = spark.read.csv(path + \"Toddler Autism dataset July 2018.csv\", header = True, inferSchema = True)"
   ]
  },
  {
   "cell_type": "code",
   "execution_count": 4,
   "id": "100f4159",
   "metadata": {},
   "outputs": [
    {
     "data": {
      "text/html": [
       "<div>\n",
       "<style scoped>\n",
       "    .dataframe tbody tr th:only-of-type {\n",
       "        vertical-align: middle;\n",
       "    }\n",
       "\n",
       "    .dataframe tbody tr th {\n",
       "        vertical-align: top;\n",
       "    }\n",
       "\n",
       "    .dataframe thead th {\n",
       "        text-align: right;\n",
       "    }\n",
       "</style>\n",
       "<table border=\"1\" class=\"dataframe\">\n",
       "  <thead>\n",
       "    <tr style=\"text-align: right;\">\n",
       "      <th></th>\n",
       "      <th>Case_No</th>\n",
       "      <th>A1</th>\n",
       "      <th>A2</th>\n",
       "      <th>A3</th>\n",
       "      <th>A4</th>\n",
       "      <th>A5</th>\n",
       "      <th>A6</th>\n",
       "      <th>A7</th>\n",
       "      <th>A8</th>\n",
       "      <th>A9</th>\n",
       "      <th>A10</th>\n",
       "      <th>Age_Mons</th>\n",
       "      <th>Qchat-10-Score</th>\n",
       "      <th>Sex</th>\n",
       "      <th>Ethnicity</th>\n",
       "      <th>Jaundice</th>\n",
       "      <th>Family_mem_with_ASD</th>\n",
       "      <th>Who completed the test</th>\n",
       "      <th>Class/ASD Traits</th>\n",
       "    </tr>\n",
       "  </thead>\n",
       "  <tbody>\n",
       "    <tr>\n",
       "      <th>0</th>\n",
       "      <td>1</td>\n",
       "      <td>0</td>\n",
       "      <td>0</td>\n",
       "      <td>0</td>\n",
       "      <td>0</td>\n",
       "      <td>0</td>\n",
       "      <td>0</td>\n",
       "      <td>1</td>\n",
       "      <td>1</td>\n",
       "      <td>0</td>\n",
       "      <td>1</td>\n",
       "      <td>28</td>\n",
       "      <td>3</td>\n",
       "      <td>f</td>\n",
       "      <td>middle eastern</td>\n",
       "      <td>yes</td>\n",
       "      <td>no</td>\n",
       "      <td>family member</td>\n",
       "      <td>No</td>\n",
       "    </tr>\n",
       "    <tr>\n",
       "      <th>1</th>\n",
       "      <td>2</td>\n",
       "      <td>1</td>\n",
       "      <td>1</td>\n",
       "      <td>0</td>\n",
       "      <td>0</td>\n",
       "      <td>0</td>\n",
       "      <td>1</td>\n",
       "      <td>1</td>\n",
       "      <td>0</td>\n",
       "      <td>0</td>\n",
       "      <td>0</td>\n",
       "      <td>36</td>\n",
       "      <td>4</td>\n",
       "      <td>m</td>\n",
       "      <td>White European</td>\n",
       "      <td>yes</td>\n",
       "      <td>no</td>\n",
       "      <td>family member</td>\n",
       "      <td>Yes</td>\n",
       "    </tr>\n",
       "    <tr>\n",
       "      <th>2</th>\n",
       "      <td>3</td>\n",
       "      <td>1</td>\n",
       "      <td>0</td>\n",
       "      <td>0</td>\n",
       "      <td>0</td>\n",
       "      <td>0</td>\n",
       "      <td>0</td>\n",
       "      <td>1</td>\n",
       "      <td>1</td>\n",
       "      <td>0</td>\n",
       "      <td>1</td>\n",
       "      <td>36</td>\n",
       "      <td>4</td>\n",
       "      <td>m</td>\n",
       "      <td>middle eastern</td>\n",
       "      <td>yes</td>\n",
       "      <td>no</td>\n",
       "      <td>family member</td>\n",
       "      <td>Yes</td>\n",
       "    </tr>\n",
       "    <tr>\n",
       "      <th>3</th>\n",
       "      <td>4</td>\n",
       "      <td>1</td>\n",
       "      <td>1</td>\n",
       "      <td>1</td>\n",
       "      <td>1</td>\n",
       "      <td>1</td>\n",
       "      <td>1</td>\n",
       "      <td>1</td>\n",
       "      <td>1</td>\n",
       "      <td>1</td>\n",
       "      <td>1</td>\n",
       "      <td>24</td>\n",
       "      <td>10</td>\n",
       "      <td>m</td>\n",
       "      <td>Hispanic</td>\n",
       "      <td>no</td>\n",
       "      <td>no</td>\n",
       "      <td>family member</td>\n",
       "      <td>Yes</td>\n",
       "    </tr>\n",
       "    <tr>\n",
       "      <th>4</th>\n",
       "      <td>5</td>\n",
       "      <td>1</td>\n",
       "      <td>1</td>\n",
       "      <td>0</td>\n",
       "      <td>1</td>\n",
       "      <td>1</td>\n",
       "      <td>1</td>\n",
       "      <td>1</td>\n",
       "      <td>1</td>\n",
       "      <td>1</td>\n",
       "      <td>1</td>\n",
       "      <td>20</td>\n",
       "      <td>9</td>\n",
       "      <td>f</td>\n",
       "      <td>White European</td>\n",
       "      <td>no</td>\n",
       "      <td>yes</td>\n",
       "      <td>family member</td>\n",
       "      <td>Yes</td>\n",
       "    </tr>\n",
       "  </tbody>\n",
       "</table>\n",
       "</div>"
      ],
      "text/plain": [
       "   Case_No  A1  A2  A3  A4  A5  A6  A7  A8  A9  A10  Age_Mons  Qchat-10-Score  \\\n",
       "0        1   0   0   0   0   0   0   1   1   0    1        28               3   \n",
       "1        2   1   1   0   0   0   1   1   0   0    0        36               4   \n",
       "2        3   1   0   0   0   0   0   1   1   0    1        36               4   \n",
       "3        4   1   1   1   1   1   1   1   1   1    1        24              10   \n",
       "4        5   1   1   0   1   1   1   1   1   1    1        20               9   \n",
       "\n",
       "  Sex       Ethnicity Jaundice Family_mem_with_ASD Who completed the test  \\\n",
       "0   f  middle eastern      yes                  no          family member   \n",
       "1   m  White European      yes                  no          family member   \n",
       "2   m  middle eastern      yes                  no          family member   \n",
       "3   m        Hispanic       no                  no          family member   \n",
       "4   f  White European       no                 yes          family member   \n",
       "\n",
       "  Class/ASD Traits   \n",
       "0                No  \n",
       "1               Yes  \n",
       "2               Yes  \n",
       "3               Yes  \n",
       "4               Yes  "
      ]
     },
     "execution_count": 4,
     "metadata": {},
     "output_type": "execute_result"
    }
   ],
   "source": [
    "df.limit(5).toPandas()"
   ]
  },
  {
   "cell_type": "code",
   "execution_count": 5,
   "id": "33bddab2",
   "metadata": {
    "scrolled": false
   },
   "outputs": [
    {
     "name": "stdout",
     "output_type": "stream",
     "text": [
      "root\n",
      " |-- Case_No: integer (nullable = true)\n",
      " |-- A1: integer (nullable = true)\n",
      " |-- A2: integer (nullable = true)\n",
      " |-- A3: integer (nullable = true)\n",
      " |-- A4: integer (nullable = true)\n",
      " |-- A5: integer (nullable = true)\n",
      " |-- A6: integer (nullable = true)\n",
      " |-- A7: integer (nullable = true)\n",
      " |-- A8: integer (nullable = true)\n",
      " |-- A9: integer (nullable = true)\n",
      " |-- A10: integer (nullable = true)\n",
      " |-- Age_Mons: integer (nullable = true)\n",
      " |-- Qchat-10-Score: integer (nullable = true)\n",
      " |-- Sex: string (nullable = true)\n",
      " |-- Ethnicity: string (nullable = true)\n",
      " |-- Jaundice: string (nullable = true)\n",
      " |-- Family_mem_with_ASD: string (nullable = true)\n",
      " |-- Who completed the test: string (nullable = true)\n",
      " |-- Class/ASD Traits : string (nullable = true)\n",
      "\n"
     ]
    }
   ],
   "source": [
    "df.printSchema()"
   ]
  },
  {
   "cell_type": "code",
   "execution_count": 6,
   "id": "261b12f0",
   "metadata": {},
   "outputs": [
    {
     "data": {
      "text/plain": [
       "1054"
      ]
     },
     "execution_count": 6,
     "metadata": {},
     "output_type": "execute_result"
    }
   ],
   "source": [
    "df.count()"
   ]
  },
  {
   "cell_type": "code",
   "execution_count": 7,
   "id": "0707bf53",
   "metadata": {
    "scrolled": false
   },
   "outputs": [
    {
     "data": {
      "text/html": [
       "<div>\n",
       "<style scoped>\n",
       "    .dataframe tbody tr th:only-of-type {\n",
       "        vertical-align: middle;\n",
       "    }\n",
       "\n",
       "    .dataframe tbody tr th {\n",
       "        vertical-align: top;\n",
       "    }\n",
       "\n",
       "    .dataframe thead th {\n",
       "        text-align: right;\n",
       "    }\n",
       "</style>\n",
       "<table border=\"1\" class=\"dataframe\">\n",
       "  <thead>\n",
       "    <tr style=\"text-align: right;\">\n",
       "      <th></th>\n",
       "      <th>Class/ASD Traits</th>\n",
       "      <th>count</th>\n",
       "    </tr>\n",
       "  </thead>\n",
       "  <tbody>\n",
       "    <tr>\n",
       "      <th>0</th>\n",
       "      <td>No</td>\n",
       "      <td>326</td>\n",
       "    </tr>\n",
       "    <tr>\n",
       "      <th>1</th>\n",
       "      <td>Yes</td>\n",
       "      <td>728</td>\n",
       "    </tr>\n",
       "  </tbody>\n",
       "</table>\n",
       "</div>"
      ],
      "text/plain": [
       "  Class/ASD Traits   count\n",
       "0                No    326\n",
       "1               Yes    728"
      ]
     },
     "execution_count": 7,
     "metadata": {},
     "output_type": "execute_result"
    }
   ],
   "source": [
    "df.groupBy(\"Class/ASD Traits \").count().limit(10).toPandas()"
   ]
  },
  {
   "cell_type": "code",
   "execution_count": 8,
   "id": "e6cf36eb",
   "metadata": {},
   "outputs": [],
   "source": [
    "df = df.drop('Case_No')"
   ]
  },
  {
   "cell_type": "markdown",
   "id": "ae81dbf6",
   "metadata": {},
   "source": [
    "# Importing required modules for preprocessing"
   ]
  },
  {
   "cell_type": "code",
   "execution_count": 9,
   "id": "e41f2b52",
   "metadata": {},
   "outputs": [],
   "source": [
    "from pyspark.ml.feature import VectorAssembler, StringIndexer, MinMaxScaler\n",
    "from pyspark.sql.types import *\n",
    "from pyspark.sql.functions import *"
   ]
  },
  {
   "cell_type": "markdown",
   "id": "e2309caa",
   "metadata": {},
   "source": [
    "# One Hot Encoding"
   ]
  },
  {
   "cell_type": "code",
   "execution_count": 10,
   "id": "a0c3efe8",
   "metadata": {},
   "outputs": [],
   "source": [
    "indexer = StringIndexer(inputCol = \"Class/ASD Traits \", outputCol = \"label\") # instantiate the class\n",
    "df = indexer.fit(df).transform(df)\n",
    "df = df.drop(\"Class/ASD Traits \")"
   ]
  },
  {
   "cell_type": "code",
   "execution_count": 11,
   "id": "90c558f1",
   "metadata": {},
   "outputs": [],
   "source": [
    "for column in df.columns:\n",
    "    if str(df.schema[column].dataType) == \"StringType\":\n",
    "        indexer = StringIndexer(inputCol = column, outputCol = column+\"_num\")\n",
    "        df = indexer.fit(df).transform(df)\n",
    "        df = df.drop(column)"
   ]
  },
  {
   "cell_type": "code",
   "execution_count": 12,
   "id": "be4c0e26",
   "metadata": {
    "scrolled": false
   },
   "outputs": [
    {
     "name": "stdout",
     "output_type": "stream",
     "text": [
      "root\n",
      " |-- A1: integer (nullable = true)\n",
      " |-- A2: integer (nullable = true)\n",
      " |-- A3: integer (nullable = true)\n",
      " |-- A4: integer (nullable = true)\n",
      " |-- A5: integer (nullable = true)\n",
      " |-- A6: integer (nullable = true)\n",
      " |-- A7: integer (nullable = true)\n",
      " |-- A8: integer (nullable = true)\n",
      " |-- A9: integer (nullable = true)\n",
      " |-- A10: integer (nullable = true)\n",
      " |-- Age_Mons: integer (nullable = true)\n",
      " |-- Qchat-10-Score: integer (nullable = true)\n",
      " |-- label: double (nullable = false)\n",
      " |-- Sex_num: double (nullable = false)\n",
      " |-- Ethnicity_num: double (nullable = false)\n",
      " |-- Jaundice_num: double (nullable = false)\n",
      " |-- Family_mem_with_ASD_num: double (nullable = false)\n",
      " |-- Who completed the test_num: double (nullable = false)\n",
      "\n"
     ]
    }
   ],
   "source": [
    "df.printSchema()"
   ]
  },
  {
   "cell_type": "markdown",
   "id": "9f386611",
   "metadata": {},
   "source": [
    "# Vectorizing the features"
   ]
  },
  {
   "cell_type": "code",
   "execution_count": 13,
   "id": "06b96e6a",
   "metadata": {},
   "outputs": [],
   "source": [
    "feature_cols = df.columns\n",
    "feature_cols.remove(\"label\")\n",
    "\n",
    "assembler = VectorAssembler(inputCols = feature_cols, outputCol = \"features\") # instantiate the VectorAssembler class\n",
    "df = assembler.transform(df).select('features','label')"
   ]
  },
  {
   "cell_type": "markdown",
   "id": "5cd750ee",
   "metadata": {},
   "source": [
    "# MinMax Scaling"
   ]
  },
  {
   "cell_type": "code",
   "execution_count": 14,
   "id": "f3961956",
   "metadata": {},
   "outputs": [],
   "source": [
    "scaler = MinMaxScaler(inputCol = 'features', outputCol = 'scaled_features', min = 0, max = 1000)\n",
    "df = scaler.fit(df).transform(df).drop('features').withColumnRenamed('scaled_features','features').select('features','label')"
   ]
  },
  {
   "cell_type": "markdown",
   "id": "4be5e948",
   "metadata": {},
   "source": [
    "# Train-Test-Split"
   ]
  },
  {
   "cell_type": "code",
   "execution_count": 15,
   "id": "d06538ca",
   "metadata": {},
   "outputs": [],
   "source": [
    "train, test = df.randomSplit([0.7,0.3])"
   ]
  },
  {
   "cell_type": "markdown",
   "id": "02d74ac9",
   "metadata": {},
   "source": [
    "# Importing required modules for ML models"
   ]
  },
  {
   "cell_type": "code",
   "execution_count": 16,
   "id": "8cebb62f",
   "metadata": {},
   "outputs": [],
   "source": [
    "from pyspark.ml.classification import *\n",
    "from pyspark.ml.evaluation import *\n",
    "from pyspark.sql.functions import *\n",
    "from pyspark.ml.tuning import CrossValidator, ParamGridBuilder"
   ]
  },
  {
   "cell_type": "markdown",
   "id": "d33739a8",
   "metadata": {},
   "source": [
    "# Evaluators"
   ]
  },
  {
   "cell_type": "code",
   "execution_count": 17,
   "id": "c35b3332",
   "metadata": {},
   "outputs": [],
   "source": [
    "binary_evaluator = BinaryClassificationEvaluator(rawPredictionCol = \"prediction\")\n",
    "MC_evaluator = MulticlassClassificationEvaluator(metricName=\"accuracy\")"
   ]
  },
  {
   "cell_type": "markdown",
   "id": "451d21d5",
   "metadata": {},
   "source": [
    "# Logistic Regression (Simple)"
   ]
  },
  {
   "cell_type": "code",
   "execution_count": 18,
   "id": "65d52657",
   "metadata": {},
   "outputs": [],
   "source": [
    "classifier_lr = LogisticRegression() # instantiate the model\n",
    "fitModel_lr = classifier_lr.fit(train)\n",
    "prediction_lr = fitModel_lr.transform(test)\n",
    "accuracy_lr = binary_evaluator.evaluate(prediction_lr)"
   ]
  },
  {
   "cell_type": "markdown",
   "id": "6a1f0e42",
   "metadata": {},
   "source": [
    "# Logistic Regression + Cross Validation"
   ]
  },
  {
   "cell_type": "code",
   "execution_count": 19,
   "id": "18a6887f",
   "metadata": {},
   "outputs": [],
   "source": [
    "classifier = LogisticRegression() # instantiate the model\n",
    "param_grid = ParamGridBuilder().addGrid(classifier.maxIter,[10,15,20]).build()\n",
    "cross_val = CrossValidator(estimator = classifier, \n",
    "                           estimatorParamMaps = param_grid, \n",
    "                           evaluator = MC_evaluator,\n",
    "                           numFolds = 2)\n",
    "fitModel_lr_cv = cross_val.fit(train)\n",
    "bestModel_lr_cv = fitModel_lr_cv.bestModel\n",
    "prediction_lr_cv = bestModel_lr_cv.transform(test)\n",
    "accuracy_lr_cv = binary_evaluator.evaluate(prediction_lr_cv)"
   ]
  },
  {
   "cell_type": "markdown",
   "id": "79157f98",
   "metadata": {},
   "source": [
    "## Model parameters"
   ]
  },
  {
   "cell_type": "code",
   "execution_count": 20,
   "id": "888942cc",
   "metadata": {
    "scrolled": true
   },
   "outputs": [
    {
     "name": "stdout",
     "output_type": "stream",
     "text": [
      "intercept vector : [30.060869474027093]\n",
      "coefficient matrix : [-6.28275248e-03 -6.46228179e-03 -6.52060181e-03 -6.57498595e-03\n",
      " -6.57408183e-03 -6.59697182e-03 -6.57001553e-03 -6.38239866e-03\n",
      " -6.90670261e-03 -6.51317152e-03 -5.92170795e-04 -1.87971824e-02\n",
      "  8.12299853e-05 -9.72707493e-04 -3.63403933e-04  5.46948541e-04\n",
      " -4.63015354e-03]\n",
      "size of coefficient matrix: 17\n"
     ]
    }
   ],
   "source": [
    "print(\"intercept vector : {}\".format(bestModel_lr_cv.interceptVector)) # b\n",
    "print(\"coefficient matrix : {}\".format(bestModel_lr_cv.coefficientMatrix.values)) # w\n",
    "print(\"size of coefficient matrix: {}\".format(bestModel_lr_cv.coefficientMatrix.values.size)) # y = X*w + b"
   ]
  },
  {
   "cell_type": "code",
   "execution_count": 21,
   "id": "aeadc461",
   "metadata": {
    "scrolled": false
   },
   "outputs": [
    {
     "data": {
      "text/html": [
       "<div>\n",
       "<style scoped>\n",
       "    .dataframe tbody tr th:only-of-type {\n",
       "        vertical-align: middle;\n",
       "    }\n",
       "\n",
       "    .dataframe tbody tr th {\n",
       "        vertical-align: top;\n",
       "    }\n",
       "\n",
       "    .dataframe thead th {\n",
       "        text-align: right;\n",
       "    }\n",
       "</style>\n",
       "<table border=\"1\" class=\"dataframe\">\n",
       "  <thead>\n",
       "    <tr style=\"text-align: right;\">\n",
       "      <th></th>\n",
       "      <th>Coefficient</th>\n",
       "    </tr>\n",
       "  </thead>\n",
       "  <tbody>\n",
       "    <tr>\n",
       "      <th>A1</th>\n",
       "      <td>-0.006283</td>\n",
       "    </tr>\n",
       "    <tr>\n",
       "      <th>A2</th>\n",
       "      <td>-0.006462</td>\n",
       "    </tr>\n",
       "    <tr>\n",
       "      <th>A3</th>\n",
       "      <td>-0.006521</td>\n",
       "    </tr>\n",
       "    <tr>\n",
       "      <th>A4</th>\n",
       "      <td>-0.006575</td>\n",
       "    </tr>\n",
       "    <tr>\n",
       "      <th>A5</th>\n",
       "      <td>-0.006574</td>\n",
       "    </tr>\n",
       "    <tr>\n",
       "      <th>A6</th>\n",
       "      <td>-0.006597</td>\n",
       "    </tr>\n",
       "    <tr>\n",
       "      <th>A7</th>\n",
       "      <td>-0.006570</td>\n",
       "    </tr>\n",
       "    <tr>\n",
       "      <th>A8</th>\n",
       "      <td>-0.006382</td>\n",
       "    </tr>\n",
       "    <tr>\n",
       "      <th>A9</th>\n",
       "      <td>-0.006907</td>\n",
       "    </tr>\n",
       "    <tr>\n",
       "      <th>A10</th>\n",
       "      <td>-0.006513</td>\n",
       "    </tr>\n",
       "    <tr>\n",
       "      <th>Age_Mons</th>\n",
       "      <td>-0.000592</td>\n",
       "    </tr>\n",
       "    <tr>\n",
       "      <th>Qchat-10-Score</th>\n",
       "      <td>-0.018797</td>\n",
       "    </tr>\n",
       "    <tr>\n",
       "      <th>Sex_num</th>\n",
       "      <td>0.000081</td>\n",
       "    </tr>\n",
       "    <tr>\n",
       "      <th>Ethnicity_num</th>\n",
       "      <td>-0.000973</td>\n",
       "    </tr>\n",
       "    <tr>\n",
       "      <th>Jaundice_num</th>\n",
       "      <td>-0.000363</td>\n",
       "    </tr>\n",
       "    <tr>\n",
       "      <th>Family_mem_with_ASD_num</th>\n",
       "      <td>0.000547</td>\n",
       "    </tr>\n",
       "    <tr>\n",
       "      <th>Who completed the test_num</th>\n",
       "      <td>-0.004630</td>\n",
       "    </tr>\n",
       "  </tbody>\n",
       "</table>\n",
       "</div>"
      ],
      "text/plain": [
       "                            Coefficient\n",
       "A1                            -0.006283\n",
       "A2                            -0.006462\n",
       "A3                            -0.006521\n",
       "A4                            -0.006575\n",
       "A5                            -0.006574\n",
       "A6                            -0.006597\n",
       "A7                            -0.006570\n",
       "A8                            -0.006382\n",
       "A9                            -0.006907\n",
       "A10                           -0.006513\n",
       "Age_Mons                      -0.000592\n",
       "Qchat-10-Score                -0.018797\n",
       "Sex_num                        0.000081\n",
       "Ethnicity_num                 -0.000973\n",
       "Jaundice_num                  -0.000363\n",
       "Family_mem_with_ASD_num        0.000547\n",
       "Who completed the test_num    -0.004630"
      ]
     },
     "execution_count": 21,
     "metadata": {},
     "output_type": "execute_result"
    }
   ],
   "source": [
    "coeff_dict = {}\n",
    "for i in range(17):\n",
    "    coeff_dict[feature_cols[i]] = bestModel_lr_cv.coefficientMatrix.values[i]\n",
    "coeff_df = pd.DataFrame(coeff_dict.values(), index = coeff_dict.keys(),columns = [\"Coefficient\"])\n",
    "coeff_df.head(20)"
   ]
  },
  {
   "cell_type": "code",
   "execution_count": 22,
   "id": "7c39d333",
   "metadata": {},
   "outputs": [
    {
     "name": "stdout",
     "output_type": "stream",
     "text": [
      "+--------------------+-----+--------------------+--------------------+----------+\n",
      "|            features|label|       rawPrediction|         probability|prediction|\n",
      "+--------------------+-----+--------------------+--------------------+----------+\n",
      "|          (17,[],[])|  1.0|[-30.060869474027...|[8.80501836673220...|       1.0|\n",
      "|(17,[0,1,2,3,4,5,...|  0.0|[45.7273871772886...|           [1.0,0.0]|       0.0|\n",
      "|(17,[0,1,2,3,4,5,...|  0.0|[37.5898886293620...|           [1.0,0.0]|       0.0|\n",
      "|(17,[0,1,2,3,4,5,...|  0.0|[29.5585593148317...|[0.99999999999985...|       0.0|\n",
      "|(17,[0,1,2,3,4,5,...|  0.0|[29.3682909659193...|[0.99999999999982...|       0.0|\n",
      "|(17,[0,1,2,3,4,6,...|  0.0|[29.3439861600389...|[0.99999999999981...|       0.0|\n",
      "|(17,[0,1,2,3,4,6,...|  0.0|[37.3002399899054...|           [1.0,0.0]|       0.0|\n",
      "|(17,[0,1,2,3,4,6,...|  0.0|[29.6780217573680...|[0.99999999999987...|       0.0|\n",
      "|(17,[0,1,2,3,4,9,...|  0.0|[21.0196600966124...|[0.99999999925650...|       0.0|\n",
      "|(17,[0,1,2,3,5,6,...|  0.0|[29.1288799238548...|[0.99999999999977...|       0.0|\n",
      "|(17,[0,1,2,3,5,7,...|  0.0|[37.8089138940711...|           [1.0,0.0]|       0.0|\n",
      "|(17,[0,1,2,3,5,9,...|  0.0|[20.1820510004221...|[0.99999999828190...|       0.0|\n",
      "|(17,[0,1,2,3,6,7,...|  0.0|[29.0928075036679...|[0.99999999999976...|       0.0|\n",
      "|(17,[0,1,2,3,6,8,...|  0.0|[21.0457209532159...|[0.99999999927563...|       0.0|\n",
      "|(17,[0,1,2,3,7,10...|  0.0|[12.2126040189379...|[0.99999503257512...|       0.0|\n",
      "|(17,[0,1,2,4,5,8,...|  0.0|[21.2203216429372...|[0.99999999939168...|       0.0|\n",
      "|(17,[0,1,2,4,6,7,...|  0.0|[28.7915448362726...|[0.99999999999968...|       0.0|\n",
      "|(17,[0,1,2,4,6,10...|  0.0|[12.8985766798859...|[0.99999749839787...|       0.0|\n",
      "|(17,[0,1,2,5,6,9,...|  0.0|[20.755405719356,...|[0.99999999903162...|       0.0|\n",
      "|(17,[0,1,2,6,7,10...|  0.0|[16.8710939378521...|[0.99999995290476...|       0.0|\n",
      "+--------------------+-----+--------------------+--------------------+----------+\n",
      "only showing top 20 rows\n",
      "\n"
     ]
    }
   ],
   "source": [
    "bestModel_lr_cv.summary.predictions.show()"
   ]
  },
  {
   "cell_type": "code",
   "execution_count": 23,
   "id": "3776c339",
   "metadata": {},
   "outputs": [
    {
     "data": {
      "text/plain": [
       "[0.616580115847775,\n",
       " 0.5115461139458507,\n",
       " 0.4463288722949394,\n",
       " 0.27818593629176064,\n",
       " 0.2521447969907854,\n",
       " 0.21423165163412697,\n",
       " 0.19429642293276117,\n",
       " 0.1726094498882126,\n",
       " 0.13890882003001176,\n",
       " 0.08497330773467081,\n",
       " 0.03879752528276039,\n",
       " 0.021816564529232037,\n",
       " 0.014295431281499942,\n",
       " 0.0074907102283146565,\n",
       " 0.005952551671438286,\n",
       " 0.002979112365691491]"
      ]
     },
     "execution_count": 23,
     "metadata": {},
     "output_type": "execute_result"
    }
   ],
   "source": [
    "bestModel_lr_cv.summary.objectiveHistory"
   ]
  },
  {
   "cell_type": "code",
   "execution_count": 24,
   "id": "b312a7a3",
   "metadata": {},
   "outputs": [
    {
     "data": {
      "text/plain": [
       "1.0"
      ]
     },
     "execution_count": 24,
     "metadata": {},
     "output_type": "execute_result"
    }
   ],
   "source": [
    "bestModel_lr_cv.summary.accuracy"
   ]
  },
  {
   "cell_type": "code",
   "execution_count": 25,
   "id": "40501ec6",
   "metadata": {
    "scrolled": true
   },
   "outputs": [
    {
     "name": "stdout",
     "output_type": "stream",
     "text": [
      "false positive of label_0 : 0.0\n",
      "false positive of label_1 : 0.0\n",
      "true positive of label_0 : 1.0\n",
      "true positive of label_1 : 1.0\n",
      "precision by label for label_0 : 1.0\n",
      "precision by label for label_1 : 1.0\n",
      "recall by label for label_0 : 1.0\n",
      "recall by label for label_1 : 1.0\n",
      "F-measure by label for label_0 : 1.0\n",
      "F-measure by label for label_1 : 1.0\n",
      "The accuracy of this regression model was: 100%\n"
     ]
    }
   ],
   "source": [
    "for i, rate in enumerate(bestModel_lr_cv.summary.falsePositiveRateByLabel):\n",
    "    print(\"false positive of label_{} : {}\".format(i,rate))\n",
    "    \n",
    "for i, rate in enumerate(bestModel_lr_cv.summary.truePositiveRateByLabel):\n",
    "    print(\"true positive of label_{} : {}\".format(i,rate))\n",
    "    \n",
    "for i, prec in enumerate(bestModel_lr_cv.summary.precisionByLabel):\n",
    "    print(\"precision by label for label_{} : {}\".format(i,prec))\n",
    "    \n",
    "for i, rec in enumerate(bestModel_lr_cv.summary.recallByLabel):\n",
    "    print(\"recall by label for label_{} : {}\".format(i,rec))\n",
    "    \n",
    "for i, f in enumerate(bestModel_lr_cv.summary.fMeasureByLabel()):\n",
    "    print(\"F-measure by label for label_{} : {}\".format(i,f))\n",
    "    \n",
    "print(\"The accuracy of this regression model was: {0:.0%}\".format(bestModel_lr_cv.summary.accuracy))"
   ]
  },
  {
   "cell_type": "markdown",
   "id": "be420e5f",
   "metadata": {},
   "source": [
    "# MLP"
   ]
  },
  {
   "cell_type": "markdown",
   "id": "345cf865",
   "metadata": {},
   "source": [
    "## extracting the number of features and classes"
   ]
  },
  {
   "cell_type": "code",
   "execution_count": 26,
   "id": "da3f9a74",
   "metadata": {
    "scrolled": true
   },
   "outputs": [
    {
     "name": "stdout",
     "output_type": "stream",
     "text": [
      "The number of features = 17\n",
      "The number of classes = 2\n"
     ]
    }
   ],
   "source": [
    "num_features = len(df.select(['features']).collect()[0][0])\n",
    "num_classes = df.select(countDistinct('label')).collect()[0][0]\n",
    "print(\"The number of features = {}\".format(num_features))\n",
    "print(\"The number of classes = {}\".format(num_classes))"
   ]
  },
  {
   "cell_type": "code",
   "execution_count": 27,
   "id": "380dd2fe",
   "metadata": {},
   "outputs": [
    {
     "name": "stdout",
     "output_type": "stream",
     "text": [
      "The accuracy of this model was : 96%\n"
     ]
    }
   ],
   "source": [
    "N1 = 128\n",
    "N2 = 32\n",
    "layers = [num_features,N1,N2,num_classes]\n",
    "classifier_mlp = MultilayerPerceptronClassifier(maxIter = 100, layers = layers, seed = 1234, blockSize= 128)\n",
    "fitModel_mlp = classifier_mlp.fit(train)\n",
    "predictions_mlp = fitModel_mlp.transform(test)\n",
    "accuracy_mlp = MC_evaluator.evaluate(predictions_mlp)\n",
    "print(\"The accuracy of this model was : {0:.0%}\".format(accuracy_mlp))"
   ]
  },
  {
   "cell_type": "markdown",
   "id": "f4f9779c",
   "metadata": {},
   "source": [
    "# Naive Bayes"
   ]
  },
  {
   "cell_type": "code",
   "execution_count": 28,
   "id": "48f2edff",
   "metadata": {},
   "outputs": [
    {
     "name": "stdout",
     "output_type": "stream",
     "text": [
      "The accuracy of this model was : 86%\n"
     ]
    }
   ],
   "source": [
    "classifier_nb = NaiveBayes()\n",
    "fitModel_nb = classifier_nb.fit(train)\n",
    "predictions_nb = fitModel_nb.transform(test)\n",
    "accuracy_nb = MC_evaluator.evaluate(predictions_nb)\n",
    "print(\"The accuracy of this model was : {0:.0%}\".format(accuracy_nb))"
   ]
  },
  {
   "cell_type": "markdown",
   "id": "82e2b2d8",
   "metadata": {},
   "source": [
    "# Linear Support Vector Machine"
   ]
  },
  {
   "cell_type": "code",
   "execution_count": 29,
   "id": "c7d31808",
   "metadata": {},
   "outputs": [
    {
     "name": "stdout",
     "output_type": "stream",
     "text": [
      "The accuracy of this model was 100%\n"
     ]
    }
   ],
   "source": [
    "classifier_svc = LinearSVC()\n",
    "fitModel_svc = classifier_svc.fit(train)\n",
    "predictions_svc = fitModel_svc.transform(test)\n",
    "accuracy_svc = MC_evaluator.evaluate(predictions_svc)\n",
    "print(\"The accuracy of this model was {0:.0%}\".format(accuracy_svc))"
   ]
  },
  {
   "cell_type": "markdown",
   "id": "f463ee94",
   "metadata": {},
   "source": [
    "# Decision Tree"
   ]
  },
  {
   "cell_type": "code",
   "execution_count": 30,
   "id": "f81011e7",
   "metadata": {},
   "outputs": [
    {
     "name": "stdout",
     "output_type": "stream",
     "text": [
      "The accuracy of this model is 100%\n"
     ]
    }
   ],
   "source": [
    "classifier_dt = DecisionTreeClassifier()\n",
    "fitModel_dt = classifier_dt.fit(train)\n",
    "predictions_dt = fitModel_dt.transform(test)\n",
    "accuracy_dt = binary_evaluator.evaluate(predictions_dt)\n",
    "print(\"The accuracy of this model is {0:.0%}\".format(accuracy_dt))"
   ]
  },
  {
   "cell_type": "markdown",
   "id": "2a374bc3",
   "metadata": {},
   "source": [
    "# Random Forest"
   ]
  },
  {
   "cell_type": "code",
   "execution_count": 31,
   "id": "da4cde0b",
   "metadata": {},
   "outputs": [
    {
     "name": "stdout",
     "output_type": "stream",
     "text": [
      "The accuracy of this model was 100%\n"
     ]
    }
   ],
   "source": [
    "classifier_rf = RandomForestClassifier()\n",
    "fitModel_rf = classifier_rf.fit(train)\n",
    "predictions_rf = fitModel_rf.transform(test)\n",
    "accuracy_rf = binary_evaluator.evaluate(predictions_rf)\n",
    "print(\"The accuracy of this model was {0:.0%}\".format(accuracy_rf))"
   ]
  },
  {
   "cell_type": "markdown",
   "id": "ab47ae37",
   "metadata": {},
   "source": [
    "# Gradient Boost Tree"
   ]
  },
  {
   "cell_type": "code",
   "execution_count": 32,
   "id": "d868e4ee",
   "metadata": {
    "scrolled": true
   },
   "outputs": [
    {
     "name": "stdout",
     "output_type": "stream",
     "text": [
      "The accuracy of this model was 100%\n"
     ]
    }
   ],
   "source": [
    "classifier_gbt = GBTClassifier()\n",
    "fitModel = classifier.fit(train)\n",
    "predictions_gbt = fitModel.transform(test)\n",
    "accuracy_gbt = binary_evaluator.evaluate(predictions_gbt)\n",
    "print(\"The accuracy of this model was {0:.0%}\".format(accuracy_gbt))"
   ]
  },
  {
   "cell_type": "markdown",
   "id": "158b7262",
   "metadata": {},
   "source": [
    "# Confusion Matrix"
   ]
  },
  {
   "cell_type": "code",
   "execution_count": 44,
   "id": "a31717d9",
   "metadata": {},
   "outputs": [],
   "source": [
    "from pyspark.mllib.evaluation import MulticlassMetrics\n",
    "preds_and_labels = predictions_gbt.select('prediction',predictions_gbt.label.cast(FloatType())).orderBy('prediction')\n",
    "metrics = MulticlassMetrics(preds_and_labels.rdd.map(tuple))\n",
    "cm = metrics.confusionMatrix().toArray()"
   ]
  }
 ],
 "metadata": {
  "kernelspec": {
   "display_name": "Python 3",
   "language": "python",
   "name": "python3"
  },
  "language_info": {
   "codemirror_mode": {
    "name": "ipython",
    "version": 3
   },
   "file_extension": ".py",
   "mimetype": "text/x-python",
   "name": "python",
   "nbconvert_exporter": "python",
   "pygments_lexer": "ipython3",
   "version": "3.8.0"
  }
 },
 "nbformat": 4,
 "nbformat_minor": 5
}
